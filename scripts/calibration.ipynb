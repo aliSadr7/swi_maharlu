{
 "cells": [
  {
   "cell_type": "code",
   "execution_count": 121,
   "id": "0a226d9e-7b62-491d-a9b3-e59434c036c7",
   "metadata": {},
   "outputs": [],
   "source": [
    "#import required packages\n",
    "import sys, os, re\n",
    "import numpy as np\n",
    "import matplotlib.pyplot as plt\n",
    "import pandas as pd\n",
    "from sklearn.metrics import mean_squared_error \n",
    "from math import sqrt\n",
    "import scipy "
   ]
  },
  {
   "cell_type": "code",
   "execution_count": 122,
   "id": "210c5dd1-4335-480b-bf71-84544b921e2b",
   "metadata": {},
   "outputs": [
    {
     "data": {
      "text/html": [
       "<div>\n",
       "<style scoped>\n",
       "    .dataframe tbody tr th:only-of-type {\n",
       "        vertical-align: middle;\n",
       "    }\n",
       "\n",
       "    .dataframe tbody tr th {\n",
       "        vertical-align: top;\n",
       "    }\n",
       "\n",
       "    .dataframe thead th {\n",
       "        text-align: right;\n",
       "    }\n",
       "</style>\n",
       "<table border=\"1\" class=\"dataframe\">\n",
       "  <thead>\n",
       "    <tr style=\"text-align: right;\">\n",
       "      <th>FID</th>\n",
       "      <th>Simulated</th>\n",
       "    </tr>\n",
       "  </thead>\n",
       "  <tbody>\n",
       "    <tr>\n",
       "      <th>PZ01</th>\n",
       "      <td>1454.552278</td>\n",
       "    </tr>\n",
       "    <tr>\n",
       "      <th>PZ02</th>\n",
       "      <td>1452.448147</td>\n",
       "    </tr>\n",
       "    <tr>\n",
       "      <th>PZ03</th>\n",
       "      <td>1456.209822</td>\n",
       "    </tr>\n",
       "    <tr>\n",
       "      <th>PZ04</th>\n",
       "      <td>1453.655795</td>\n",
       "    </tr>\n",
       "    <tr>\n",
       "      <th>PZ05</th>\n",
       "      <td>1449.656622</td>\n",
       "    </tr>\n",
       "  </tbody>\n",
       "</table>\n",
       "</div>"
      ],
      "text/plain": [
       "FID     Simulated\n",
       "PZ01  1454.552278\n",
       "PZ02  1452.448147\n",
       "PZ03  1456.209822\n",
       "PZ04  1453.655795\n",
       "PZ05  1449.656622"
      ]
     },
     "execution_count": 122,
     "metadata": {},
     "output_type": "execute_result"
    }
   ],
   "source": [
    "#open the modflow6 calculated heads on piezometers\n",
    "hobSim = pd.read_csv('../calibrated/modelBuy/simulated_head.csv',index_col=0)\n",
    "hobSim = hobSim.transpose()\n",
    "hobSim.rename(columns={1.0:'Simulated'}, inplace=True)\n",
    "hobSim.head()"
   ]
  },
  {
   "cell_type": "code",
   "execution_count": 123,
   "id": "6bcf97f7-1b5c-4e4e-99a2-0a79d2785489",
   "metadata": {},
   "outputs": [
    {
     "data": {
      "text/html": [
       "<div>\n",
       "<style scoped>\n",
       "    .dataframe tbody tr th:only-of-type {\n",
       "        vertical-align: middle;\n",
       "    }\n",
       "\n",
       "    .dataframe tbody tr th {\n",
       "        vertical-align: top;\n",
       "    }\n",
       "\n",
       "    .dataframe thead th {\n",
       "        text-align: right;\n",
       "    }\n",
       "</style>\n",
       "<table border=\"1\" class=\"dataframe\">\n",
       "  <thead>\n",
       "    <tr style=\"text-align: right;\">\n",
       "      <th></th>\n",
       "      <th>UTMX</th>\n",
       "      <th>UTMY</th>\n",
       "      <th>Observed</th>\n",
       "    </tr>\n",
       "    <tr>\n",
       "      <th>FID</th>\n",
       "      <th></th>\n",
       "      <th></th>\n",
       "      <th></th>\n",
       "    </tr>\n",
       "  </thead>\n",
       "  <tbody>\n",
       "    <tr>\n",
       "      <th>PZ01</th>\n",
       "      <td>680145.0</td>\n",
       "      <td>3245289.0</td>\n",
       "      <td>1452.41</td>\n",
       "    </tr>\n",
       "    <tr>\n",
       "      <th>PZ02</th>\n",
       "      <td>680296.0</td>\n",
       "      <td>3245257.0</td>\n",
       "      <td>1451.89</td>\n",
       "    </tr>\n",
       "    <tr>\n",
       "      <th>PZ03</th>\n",
       "      <td>680566.0</td>\n",
       "      <td>3245252.0</td>\n",
       "      <td>1449.66</td>\n",
       "    </tr>\n",
       "    <tr>\n",
       "      <th>PZ04</th>\n",
       "      <td>680963.0</td>\n",
       "      <td>3245193.0</td>\n",
       "      <td>1448.41</td>\n",
       "    </tr>\n",
       "    <tr>\n",
       "      <th>PZ05</th>\n",
       "      <td>680463.0</td>\n",
       "      <td>3245150.0</td>\n",
       "      <td>1452.85</td>\n",
       "    </tr>\n",
       "  </tbody>\n",
       "</table>\n",
       "</div>"
      ],
      "text/plain": [
       "          UTMX       UTMY  Observed\n",
       "FID                                \n",
       "PZ01  680145.0  3245289.0   1452.41\n",
       "PZ02  680296.0  3245257.0   1451.89\n",
       "PZ03  680566.0  3245252.0   1449.66\n",
       "PZ04  680963.0  3245193.0   1448.41\n",
       "PZ05  680463.0  3245150.0   1452.85"
      ]
     },
     "execution_count": 123,
     "metadata": {},
     "output_type": "execute_result"
    }
   ],
   "source": [
    "#open the observed heads data\n",
    "hobObs = pd.read_csv('../observation/observed_head.csv',index_col=0)\n",
    "hobObs.head()"
   ]
  },
  {
   "cell_type": "code",
   "execution_count": 124,
   "id": "f102dd98-d546-4a6f-8fe7-0f6f7c2ff66b",
   "metadata": {},
   "outputs": [
    {
     "data": {
      "text/html": [
       "<div>\n",
       "<style scoped>\n",
       "    .dataframe tbody tr th:only-of-type {\n",
       "        vertical-align: middle;\n",
       "    }\n",
       "\n",
       "    .dataframe tbody tr th {\n",
       "        vertical-align: top;\n",
       "    }\n",
       "\n",
       "    .dataframe thead th {\n",
       "        text-align: right;\n",
       "    }\n",
       "</style>\n",
       "<table border=\"1\" class=\"dataframe\">\n",
       "  <thead>\n",
       "    <tr style=\"text-align: right;\">\n",
       "      <th></th>\n",
       "      <th>Observed</th>\n",
       "      <th>Simulated</th>\n",
       "      <th>Residual</th>\n",
       "    </tr>\n",
       "    <tr>\n",
       "      <th>FID</th>\n",
       "      <th></th>\n",
       "      <th></th>\n",
       "      <th></th>\n",
       "    </tr>\n",
       "  </thead>\n",
       "  <tbody>\n",
       "    <tr>\n",
       "      <th>PZ01</th>\n",
       "      <td>1452.41</td>\n",
       "      <td>1454.552278</td>\n",
       "      <td>-2.142278</td>\n",
       "    </tr>\n",
       "    <tr>\n",
       "      <th>PZ02</th>\n",
       "      <td>1451.89</td>\n",
       "      <td>1452.448147</td>\n",
       "      <td>-0.558147</td>\n",
       "    </tr>\n",
       "    <tr>\n",
       "      <th>PZ03</th>\n",
       "      <td>1449.66</td>\n",
       "      <td>1456.209822</td>\n",
       "      <td>-6.549822</td>\n",
       "    </tr>\n",
       "    <tr>\n",
       "      <th>PZ04</th>\n",
       "      <td>1448.41</td>\n",
       "      <td>1453.655795</td>\n",
       "      <td>-5.245795</td>\n",
       "    </tr>\n",
       "    <tr>\n",
       "      <th>PZ05</th>\n",
       "      <td>1452.85</td>\n",
       "      <td>1449.656622</td>\n",
       "      <td>3.193378</td>\n",
       "    </tr>\n",
       "  </tbody>\n",
       "</table>\n",
       "</div>"
      ],
      "text/plain": [
       "      Observed    Simulated  Residual\n",
       "FID                                  \n",
       "PZ01   1452.41  1454.552278 -2.142278\n",
       "PZ02   1451.89  1452.448147 -0.558147\n",
       "PZ03   1449.66  1456.209822 -6.549822\n",
       "PZ04   1448.41  1453.655795 -5.245795\n",
       "PZ05   1452.85  1449.656622  3.193378"
      ]
     },
     "execution_count": 124,
     "metadata": {},
     "output_type": "execute_result"
    }
   ],
   "source": [
    "#create a compiled pandas dataframe and calculate residual\n",
    "piezoDf = pd.DataFrame()\n",
    "piezoDf['Observed'] = hobObs['Observed'] \n",
    "piezoDf['Simulated'] = hobSim['Simulated']\n",
    "piezoDf['Residual'] = piezoDf['Observed'] - piezoDf['Simulated']\n",
    "piezoDf.to_csv('../observation/residual.csv')\n",
    "piezoDf.head()"
   ]
  },
  {
   "cell_type": "code",
   "execution_count": 125,
   "id": "bf03ab1b-5ec1-4e7e-a667-5e03555fad97",
   "metadata": {},
   "outputs": [
    {
     "name": "stdout",
     "output_type": "stream",
     "text": [
      "Res min: -8.98 , Res max: 9.56\n"
     ]
    }
   ],
   "source": [
    "#get some values about the residuals\n",
    "min=np.min(piezoDf.describe().loc['min'].values[0:2])\n",
    "max=np.max(piezoDf.describe().loc['max'].values[0:2])\n",
    "print(\"Res min: %.2f , Res max: %.2f\"%(piezoDf['Residual'].min(), piezoDf['Residual'].max()))"
   ]
  },
  {
   "cell_type": "code",
   "execution_count": 126,
   "id": "8860f939-133f-44e9-b218-19295afea86a",
   "metadata": {},
   "outputs": [
    {
     "data": {
      "text/plain": [
       "4.232046141345174"
      ]
     },
     "execution_count": 126,
     "metadata": {},
     "output_type": "execute_result"
    }
   ],
   "source": [
    "#root mean squared error (RMSE)\n",
    "rmse = sqrt(mean_squared_error(piezoDf['Observed'].values, piezoDf['Simulated'].values))\n",
    "rmse\n",
    "#plt.text(1444, 1415, f\"$RMSE%$: {round(rmse, 2)}$m$\", fontsize=15)"
   ]
  },
  {
   "cell_type": "code",
   "execution_count": 127,
   "id": "bbf7e316-656d-4013-a626-eb7a8d6dd48d",
   "metadata": {},
   "outputs": [
    {
     "data": {
      "text/plain": [
       "12.697408164852037"
      ]
     },
     "execution_count": 127,
     "metadata": {},
     "output_type": "execute_result"
    }
   ],
   "source": [
    "#normalized root mean squared error (NRMSE)\n",
    "nrmse = sqrt(mean_squared_error(piezoDf['Observed'].values, piezoDf['Simulated'].values))/\\\n",
    "             (piezoDf['Observed'].max()-piezoDf['Observed'].min())*100\n",
    "nrmse\n",
    "#plt.text(1442.7, 1412, f\"$NRMSE$: {round(nrmse, 2)}%\", fontsize=15)\n"
   ]
  },
  {
   "cell_type": "code",
   "execution_count": 128,
   "id": "3e42ace4-882c-4de2-b962-a9c1dffee17e",
   "metadata": {},
   "outputs": [
    {
     "data": {
      "image/png": "[encoded data removed]",
      "text/plain": [
       "<Figure size 720x576 with 1 Axes>"
      ]
     },
     "metadata": {
      "needs_background": "light"
     },
     "output_type": "display_data"
    }
   ],
   "source": [
    "# generate observed - simulated plot\n",
    "x = np.linspace(min-5, max+5, 100)\n",
    "fig = plt.figure(figsize=(10,8))\n",
    "plt.plot(x, x, linestyle='dashed', color='red')\n",
    "plt.scatter(piezoDf['Observed'],piezoDf['Simulated'], marker='o')\n",
    "\n",
    "#plt.scatter(piezoDf['Observed'],piezoDf['Simulated'], marker='o', c=piezoDf['Residual'])\n",
    "#cbar = plt.colorbar()\n",
    "#cbar.set_label('Residual (m)', fontsize=14)\n",
    "plt.xlim(min-10,max+10)\n",
    "plt.ylim(min-10,max+10)\n",
    "plt.xlabel('Observed Head (m)', fontsize=14)\n",
    "plt.ylabel('Simulated Head (m)', fontsize=14)\n",
    "plt.grid()\n",
    "\n",
    "#coefficient of determination (R2)\n",
    "slope, intercept, r_value, p_value, std_err = scipy.stats.linregress(piezoDf['Observed'].values, piezoDf['Simulated'].values)\n",
    "rSquared = r_value * r_value\n",
    "plt.text(1432.4, 1451, f\"$R^2$: {round(rSquared, 2)}\", fontsize=16)\n",
    "fig.tight_layout()\n",
    "plt.savefig(\"../fig/calibration.png\", format = 'png')   \n",
    "\n",
    "#plt.title(\"NRMSE: %.2f\"%Nrmse, fontsize=15)"
   ]
  },
  {
   "cell_type": "code",
   "execution_count": null,
   "id": "f84626b8-2e5a-4741-be4f-23c45a7b9648",
   "metadata": {},
   "outputs": [],
   "source": []
  },
  {
   "cell_type": "code",
   "execution_count": null,
   "id": "7a33c3d3-0cd1-4dff-ad30-749472d2238d",
   "metadata": {},
   "outputs": [],
   "source": []
  }
 ],
 "metadata": {
  "kernelspec": {
   "display_name": "Python 3 (ipykernel)",
   "language": "python",
   "name": "python3"
  },
  "language_info": {
   "codemirror_mode": {
    "name": "ipython",
    "version": 3
   },
   "file_extension": ".py",
   "mimetype": "text/x-python",
   "name": "python",
   "nbconvert_exporter": "python",
   "pygments_lexer": "ipython3",
   "version": "3.9.12"
  }
 },
 "nbformat": 4,
 "nbformat_minor": 5
}
